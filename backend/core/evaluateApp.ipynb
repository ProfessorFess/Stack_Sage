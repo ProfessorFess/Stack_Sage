{
 "cells": [
  {
   "cell_type": "code",
   "execution_count": null,
   "id": "bffd6807",
   "metadata": {},
   "outputs": [],
   "source": [
    "import time\n",
    "from rag_pipeline import graph\n",
    "\n",
    "print(\"🚀 Starting RAG pipeline test...\")\n",
    "print(\"⏰ Time:\", time.strftime(\"%H:%M:%S\"))\n",
    "\n",
    "print(\"\\n📦 Importing graph...\")\n",
    "start_time = time.time()\n",
    "print(f\"✅ Graph imported in {time.time() - start_time:.2f}s\")\n",
    "\n",
    "print(\"\\n🔍 Calling graph.invoke()...\")\n",
    "invoke_start = time.time()\n",
    "result = graph.invoke({\"question\": \"What is the effect of Rest in Peace?\"})\n",
    "invoke_end = time.time()\n",
    "\n",
    "print(f\"✅ Graph invoke completed in {invoke_end - invoke_start:.2f}s\")\n",
    "print(f\"⏰ Total time: {invoke_end - start_time:.2f}s\")\n",
    "\n",
    "print(\"\\n📋 Result keys:\", list(result.keys()))\n",
    "print(\"\\n📝 Response length:\", len(result.get(\"response\", \"\")))\n",
    "print(\"\\n📄 Response preview:\")\n",
    "print(result[\"response\"][:200] + \"...\" if len(result[\"response\"]) > 200 else result[\"response\"])"
   ]
  },
  {
   "cell_type": "code",
   "execution_count": null,
   "id": "76b2d3d2",
   "metadata": {},
   "outputs": [],
   "source": [
    "# Debug individual components\n",
    "print(\"🔧 Testing individual components...\")\n",
    "\n",
    "# Test 1: Config loading\n",
    "print(\"\\n1️⃣ Testing config...\")\n",
    "config_start = time.time()\n",
    "from backend.core.config import config\n",
    "print(f\"✅ Config loaded in {time.time() - config_start:.2f}s\")\n",
    "print(f\"   Model: {config.LLM_MODEL}\")\n",
    "print(f\"   API Key: {'SET' if config.OPENAI_API_KEY else 'NOT SET'}\")\n",
    "\n",
    "# Test 2: Tools loading\n",
    "print(\"\\n2️⃣ Testing tools...\")\n",
    "tools_start = time.time()\n",
    "from backend.core.tools import ALL_TOOLS\n",
    "print(f\"✅ Tools loaded in {time.time() - tools_start:.2f}s\")\n",
    "print(f\"   Number of tools: {len(ALL_TOOLS)}\")\n",
    "\n",
    "# Test 3: Agent creation\n",
    "print(\"\\n3️⃣ Testing agent creation...\")\n",
    "agent_start = time.time()\n",
    "from backend.core.rag_pipeline import create_mtg_agent\n",
    "agent = create_mtg_agent()\n",
    "print(f\"✅ Agent created in {time.time() - agent_start:.2f}s\")\n",
    "\n",
    "# Test 4: Direct agent invoke (bypass wrapper)\n",
    "print(\"\\n4️⃣ Testing direct agent invoke...\")\n",
    "direct_start = time.time()\n",
    "from langchain_core.messages import HumanMessage\n",
    "direct_result = agent.invoke({\"messages\": [HumanMessage(content=\"What is the effect of Rest in Peace?\")]})\n",
    "direct_end = time.time()\n",
    "print(f\"✅ Direct agent invoke completed in {direct_end - direct_start:.2f}s\")\n",
    "print(f\"   Direct result keys: {list(direct_result.keys())}\")\n",
    "\n",
    "print(f\"\\n⏰ Total component test time: {time.time() - config_start:.2f}s\")\n"
   ]
  }
 ],
 "metadata": {
  "kernelspec": {
   "display_name": ".venv",
   "language": "python",
   "name": "python3"
  },
  "language_info": {
   "codemirror_mode": {
    "name": "ipython",
    "version": 3
   },
   "file_extension": ".py",
   "mimetype": "text/x-python",
   "name": "python",
   "nbconvert_exporter": "python",
   "pygments_lexer": "ipython3",
   "version": "3.13.5"
  }
 },
 "nbformat": 4,
 "nbformat_minor": 5
}
